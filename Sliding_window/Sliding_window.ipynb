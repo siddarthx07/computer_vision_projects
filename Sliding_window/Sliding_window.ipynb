{
 "cells": [
  {
   "attachments": {},
   "cell_type": "markdown",
   "metadata": {},
   "source": [
    "# Sliding Window"
   ]
  },
  {
   "attachments": {},
   "cell_type": "markdown",
   "metadata": {},
   "source": [
    "##### Window Sliding Technique is a computational technique which aims to reduce the use of nested loop and replace it with a single loop, thereby reducing the time complexity."
   ]
  },
  {
   "attachments": {},
   "cell_type": "markdown",
   "metadata": {},
   "source": [
    "#### 1. O(n * k)"
   ]
  },
  {
   "cell_type": "code",
   "execution_count": null,
   "metadata": {},
   "outputs": [],
   "source": [
    "import sys\n",
    "\n",
    "# O(n * k) solution for finding maximum sum of a subarray of size k\n",
    "INT_MIN = -sys.maxsize - 1\n",
    "\n",
    "# Returns maximum sum in a\n",
    "# subarray of size k.\n",
    "\n",
    "\n",
    "def maxSum(arr, n, k):\n",
    "\n",
    "\t# Initialize result\n",
    "\tmax_sum = INT_MIN\n",
    "\n",
    "\t# Consider all blocks\n",
    "\t# starting with i.\n",
    "\tfor i in range(n - k + 1):\n",
    "\t\tcurrent_sum = 0\n",
    "\t\tfor j in range(k):\n",
    "\t\t\tcurrent_sum = current_sum + arr[i + j]\n",
    "\n",
    "\t\t# Update result if required.\n",
    "\t\tmax_sum = max(current_sum, max_sum)\n",
    "\n",
    "\treturn max_sum\n",
    "\n",
    "\n",
    "# Driver code\n",
    "arr = [1, 4, 2, 10, 2,\n",
    "\t3, 1, 0, 20]\n",
    "k = 4\n",
    "n = len(arr)\n",
    "print(maxSum(arr, n, k))\n",
    "\n",
    "# This code is contributed by mits\n"
   ]
  },
  {
   "attachments": {},
   "cell_type": "markdown",
   "metadata": {},
   "source": [
    "#### 2. O(n)"
   ]
  },
  {
   "cell_type": "code",
   "execution_count": null,
   "metadata": {},
   "outputs": [],
   "source": [
    "# O(n) solution for finding\n",
    "# maximum sum of a subarray of size k\n",
    "\n",
    "\n",
    "def maxSum(arr, k):\n",
    "\t# length of the array\n",
    "\tn = len(arr)\n",
    "\n",
    "\t# n must be greater than k\n",
    "\tif n < k:\n",
    "\t\tprint(\"Invalid\")\n",
    "\t\treturn -1\n",
    "\n",
    "\t# Compute sum of first window of size k\n",
    "\twindow_sum = sum(arr[:k])\n",
    "\n",
    "\t# first sum available\n",
    "\tmax_sum = window_sum\n",
    "\n",
    "\t# Compute the sums of remaining windows by\n",
    "\t# removing first element of previous\n",
    "\t# window and adding last element of\n",
    "\t# the current window.\n",
    "\tfor i in range(n - k):\n",
    "\t\twindow_sum = window_sum - arr[i] + arr[i + k]\n",
    "\t\tmax_sum = max(window_sum, max_sum)\n",
    "\n",
    "\treturn max_sum\n",
    "\n",
    "\n",
    "# Driver code\n",
    "arr = [1, 4, 2, 10, 2, 3, 1, 0, 20]\n",
    "k = 4\n",
    "print(maxSum(arr, k))\n",
    "\n",
    "# This code is contributed by Kyle McClay\n"
   ]
  }
 ],
 "metadata": {
  "kernelspec": {
   "display_name": ".venv",
   "language": "python",
   "name": "python3"
  },
  "language_info": {
   "name": "python",
   "version": "3.10.9 (tags/v3.10.9:1dd9be6, Dec  6 2022, 20:01:21) [MSC v.1934 64 bit (AMD64)]"
  },
  "orig_nbformat": 4,
  "vscode": {
   "interpreter": {
    "hash": "3a604a69060e37b28633898a93bde3bd926af499dff38dbef2c72bfb3ce5126d"
   }
  }
 },
 "nbformat": 4,
 "nbformat_minor": 2
}
