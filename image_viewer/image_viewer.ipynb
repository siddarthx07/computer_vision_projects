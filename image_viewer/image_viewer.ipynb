{
 "cells": [
  {
   "cell_type": "code",
   "execution_count": 2,
   "metadata": {},
   "outputs": [
    {
     "name": "stdout",
     "output_type": "stream",
     "text": [
      "Requirement already satisfied: PySimpleGUI in c:\\users\\msi\\desktop\\object_detection\\.venv\\lib\\site-packages (4.60.4)\n"
     ]
    }
   ],
   "source": [
    "!pip install PySimpleGUI"
   ]
  },
  {
   "cell_type": "code",
   "execution_count": 6,
   "metadata": {},
   "outputs": [
    {
     "ename": "ModuleNotFoundError",
     "evalue": "No module named 'PySimpleGUI'",
     "output_type": "error",
     "traceback": [
      "\u001b[1;31m---------------------------------------------------------------------------\u001b[0m",
      "\u001b[1;31mModuleNotFoundError\u001b[0m                       Traceback (most recent call last)",
      "Cell \u001b[1;32mIn[6], line 1\u001b[0m\n\u001b[1;32m----> 1\u001b[0m \u001b[39mimport\u001b[39;00m \u001b[39mPySimpleGUI\u001b[39;00m \u001b[39mas\u001b[39;00m \u001b[39msg\u001b[39;00m\n\u001b[0;32m      2\u001b[0m \u001b[39mimport\u001b[39;00m \u001b[39mos\u001b[39;00m\u001b[39m.\u001b[39;00m\u001b[39mpath\u001b[39;00m\n\u001b[0;32m      4\u001b[0m \u001b[39m# First the window layout in 2 columns\u001b[39;00m\n",
      "\u001b[1;31mModuleNotFoundError\u001b[0m: No module named 'PySimpleGUI'"
     ]
    }
   ],
   "source": [
    "import PySimpleGUI as sg\n",
    "import os.path\n",
    "\n",
    "# First the window layout in 2 columns\n",
    "\n",
    "file_list_column = [\n",
    "    [\n",
    "        sg.Text(\"Image Folder\"),\n",
    "        sg.In(size=(25, 1), enable_events=True, key=\"-FOLDER-\"),\n",
    "        sg.FolderBrowse(),\n",
    "    ],\n",
    "    [\n",
    "        sg.Listbox(\n",
    "            values=[], enable_events=True, size=(40, 20), key=\"-FILE LIST-\"\n",
    "        )\n",
    "    ],\n",
    "]\n",
    "# For now will only show the name of the file that was chosen\n",
    "image_viewer_column = [\n",
    "    [sg.Text(\"Choose an image from list on left:\")],\n",
    "    [sg.Text(size=(40, 1), key=\"-TOUT-\")],\n",
    "    [sg.Image(key=\"-IMAGE-\")],\n",
    "]\n",
    "# ----- Full layout -----\n",
    "layout = [\n",
    "    [\n",
    "        sg.Column(file_list_column),\n",
    "        sg.VSeperator(),\n",
    "        sg.Column(image_viewer_column),\n",
    "    ]\n",
    "]\n",
    "\n"
   ]
  },
  {
   "cell_type": "code",
   "execution_count": null,
   "metadata": {},
   "outputs": [],
   "source": [
    "window = sg.Window(\"Image Viewer\", layout)\n",
    "while True:\n",
    "    event, values = window.read()\n",
    "    if event == \"Exit\" or event == sg.WIN_CLOSED:\n",
    "        break\n",
    "    # Folder name was filled in, make a list of files in the folder\n",
    "    if event == \"-FOLDER-\":\n",
    "        folder = values[\"-FOLDER-\"]\n",
    "        try:\n",
    "            # Get list of files in folder\n",
    "            file_list = os.listdir(folder)\n",
    "        except:\n",
    "            file_list = []\n",
    "\n",
    "        fnames = [\n",
    "            f\n",
    "            for f in file_list\n",
    "            if os.path.isfile(os.path.join(folder, f))\n",
    "            and f.lower().endswith((\".png\", \".gif\"))\n",
    "        ]\n",
    "        window[\"-FILE LIST-\"].update(fnames)\n",
    "    elif event == \"-FILE LIST-\":  # A file was chosen from the listbox\n",
    "        try:\n",
    "            filename = os.path.join(\n",
    "                values[\"-FOLDER-\"], values[\"-FILE LIST-\"][0]\n",
    "            )\n",
    "            window[\"-TOUT-\"].update(filename)\n",
    "            window[\"-IMAGE-\"].update(filename=filename)\n",
    "        except:\n",
    "            pass\n",
    "window.close()"
   ]
  }
 ],
 "metadata": {
  "kernelspec": {
   "display_name": ".venv",
   "language": "python",
   "name": "python3"
  },
  "language_info": {
   "codemirror_mode": {
    "name": "ipython",
    "version": 3
   },
   "file_extension": ".py",
   "mimetype": "text/x-python",
   "name": "python",
   "nbconvert_exporter": "python",
   "pygments_lexer": "ipython3",
   "version": "3.10.9"
  },
  "orig_nbformat": 4,
  "vscode": {
   "interpreter": {
    "hash": "3a604a69060e37b28633898a93bde3bd926af499dff38dbef2c72bfb3ce5126d"
   }
  }
 },
 "nbformat": 4,
 "nbformat_minor": 2
}
